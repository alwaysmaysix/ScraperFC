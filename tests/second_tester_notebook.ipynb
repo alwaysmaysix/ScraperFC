{
 "cells": [
  {
   "cell_type": "code",
   "execution_count": 7,
   "id": "84efcaf0",
   "metadata": {},
   "outputs": [],
   "source": [
    "import sys\n",
    "sys.path.append(\"..\")\n",
    "import ScraperFC as sfc # import local ScraperFC\n",
    "import traceback"
   ]
  },
  {
   "cell_type": "code",
   "execution_count": 8,
   "id": "2bcd55f2",
   "metadata": {},
   "outputs": [
    {
     "data": {
      "application/vnd.jupyter.widget-view+json": {
       "model_id": "59a76096f57145ce81a053a6fdc10207",
       "version_major": 2,
       "version_minor": 0
      },
      "text/plain": [
       "  0%|          | 0/380 [00:00<?, ?it/s]"
      ]
     },
     "metadata": {},
     "output_type": "display_data"
    },
    {
     "name": "stderr",
     "output_type": "stream",
     "text": [
      "Traceback (most recent call last):\n",
      "  File \"C:\\Users\\Owner\\AppData\\Local\\Temp\\ipykernel_10296\\2648796042.py\", line 3, in <module>\n",
      "    matches = scraper.scrape_matches(2017, \"Ligue 1\")\n",
      "  File \"C:\\Users\\Owner\\Documents\\GitHub\\ScraperFC\\tests\\..\\ScraperFC\\Understat.py\", line 316, in scrape_matches\n",
      "  File \"C:\\Users\\Owner\\Documents\\GitHub\\ScraperFC\\tests\\..\\ScraperFC\\Understat.py\", line 195, in scrape_match\n",
      "    date = soup.find('div', {'class': 'page-wrapper'}).find_all('li')[-1].text\n",
      "AttributeError: 'NoneType' object has no attribute 'find_all'\n"
     ]
    }
   ],
   "source": [
    "scraper = sfc.Understat()\n",
    "try:\n",
    "    matches = scraper.scrape_matches(2017, \"Ligue 1\")\n",
    "except:\n",
    "    traceback.print_exc()\n",
    "finally:\n",
    "    scraper.close()"
   ]
  },
  {
   "cell_type": "code",
   "execution_count": null,
   "id": "cddf1e98-1a83-4d46-bdc7-7855bcfaab25",
   "metadata": {},
   "outputs": [],
   "source": [
    "matches"
   ]
  }
 ],
 "metadata": {
  "kernelspec": {
   "display_name": "Python 3 (ipykernel)",
   "language": "python",
   "name": "python3"
  },
  "language_info": {
   "codemirror_mode": {
    "name": "ipython",
    "version": 3
   },
   "file_extension": ".py",
   "mimetype": "text/x-python",
   "name": "python",
   "nbconvert_exporter": "python",
   "pygments_lexer": "ipython3",
   "version": "3.9.13"
  },
  "vscode": {
   "interpreter": {
    "hash": "cc273e64c6c48e9881aab795f8d0e622d86c0ebe91aa99d17d2821087e5340fb"
   }
  }
 },
 "nbformat": 4,
 "nbformat_minor": 5
}
