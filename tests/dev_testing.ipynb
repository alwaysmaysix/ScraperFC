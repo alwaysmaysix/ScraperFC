{
 "cells": [
  {
   "cell_type": "code",
   "execution_count": 1,
   "metadata": {},
   "outputs": [],
   "source": [
    "import sys\n",
    "sys.path.append(\"..\")\n",
    "import ScraperFC as sfc # import local scraperfc\n",
    "from ScraperFC import *\n",
    "import traceback\n",
    "\n",
    "from tqdm.auto import tqdm\n",
    "import pandas as pd\n",
    "from bs4 import BeautifulSoup\n",
    "import re\n",
    "from selenium.webdriver.common.by import By\n",
    "from selenium.webdriver.common.keys import Keys\n",
    "from selenium.webdriver.support import expected_conditions as EC\n",
    "from selenium.webdriver.support.ui import WebDriverWait\n",
    "import requests"
   ]
  },
  {
   "cell_type": "code",
   "execution_count": null,
   "metadata": {
    "tags": []
   },
   "outputs": [
    {
     "data": {
      "application/vnd.jupyter.widget-view+json": {
       "model_id": "ccd1edca69364fc69d9fd676d89fad61",
       "version_major": 2,
       "version_minor": 0
      },
      "text/plain": [
       "Gathering 2004 EPL links:   0%|          | 0/3 [00:00<?, ?it/s]"
      ]
     },
     "metadata": {},
     "output_type": "display_data"
    },
    {
     "name": "stdout",
     "output_type": "stream",
     "text": [
      "1/3 2394 50\n",
      "1/3 2394 50\n",
      "2/3 2466 50\n",
      "2/3 2466 50\n",
      "3/3 1952 38\n",
      "3/3 1952 38\n",
      "2004 EPL 138 links gathered\n"
     ]
    },
    {
     "data": {
      "application/vnd.jupyter.widget-view+json": {
       "model_id": "187c629f3f2d41e29ce7c7e989ff431d",
       "version_major": 2,
       "version_minor": 0
      },
      "text/plain": [
       "Gathering 2005 EPL links:   0%|          | 0/8 [00:00<?, ?it/s]"
      ]
     },
     "metadata": {},
     "output_type": "display_data"
    },
    {
     "name": "stdout",
     "output_type": "stream",
     "text": [
      "1/8 2466 50\n",
      "1/8 2466 50\n",
      "2/8 2442 50\n",
      "2/8 2442 50\n",
      "3/8 2466 50\n",
      "3/8 2466 50\n",
      "4/8 2322 50\n",
      "4/8 2322 50\n",
      "5/8 2466 50\n",
      "5/8 2466 50\n",
      "6/8 2418 50\n",
      "6/8 2418 50\n",
      "7/8 2514 50\n",
      "7/8 2514 50\n",
      "8/8 1450 27\n",
      "8/8 1450 27\n",
      "2005 EPL 377 links gathered\n"
     ]
    },
    {
     "data": {
      "application/vnd.jupyter.widget-view+json": {
       "model_id": "82ab4d055ebf4847aefce84b15e734b6",
       "version_major": 2,
       "version_minor": 0
      },
      "text/plain": [
       "Gathering 2006 EPL links:   0%|          | 0/8 [00:00<?, ?it/s]"
      ]
     },
     "metadata": {},
     "output_type": "display_data"
    },
    {
     "name": "stdout",
     "output_type": "stream",
     "text": [
      "1/8 2490 5050\n",
      "1/8 2490 50\n",
      "2/8 2514 50\n",
      "2/8 2514 50\n",
      "3/8 2514 50\n",
      "3/8 2514 50\n",
      "4/8 2394 50\n",
      "4/8 2394 50\n",
      "5/8 2442 50\n",
      "5/8 2442 50\n",
      "6/8 2442 50 1872 50\n",
      "6/8 2442 50\n",
      "7/8 2442 500\n",
      "7/8 2442 50\n",
      "8/8 1578 30\n",
      "8/8 1578 30\n",
      "2006 EPL 380 links gathered\n"
     ]
    },
    {
     "data": {
      "application/vnd.jupyter.widget-view+json": {
       "model_id": "28f67302ece24f5faae29aae4c341e82",
       "version_major": 2,
       "version_minor": 0
      },
      "text/plain": [
       "Gathering 2007 EPL links:   0%|          | 0/8 [00:00<?, ?it/s]"
      ]
     },
     "metadata": {},
     "output_type": "display_data"
    },
    {
     "name": "stdout",
     "output_type": "stream",
     "text": [
      "1/8 2442 50\n",
      "1/8 2442 5050\n",
      "2/8 2394 50\n",
      "2/8 2394 50\n",
      "3/8 2442 50\n",
      "3/8 2442 50\n",
      "4/8 2346 50\n",
      "4/8 2346 50883 50\n",
      "5/8 2514 50\n",
      "5/8 2514 50\n",
      "6/8 2418 50\n",
      "6/8 2418 50\n",
      "7/8 2466 50\n",
      "7/8 2466 50\n",
      "8/8 1415 26\n",
      "8/8 1415 26\n",
      "2007 EPL 376 links gathered\n"
     ]
    },
    {
     "data": {
      "application/vnd.jupyter.widget-view+json": {
       "model_id": "b2e160a751d7426aafc6bdd71c2fdd0c",
       "version_major": 2,
       "version_minor": 0
      },
      "text/plain": [
       "Gathering 2008 EPL links:   0%|          | 0/8 [00:00<?, ?it/s]"
      ]
     },
     "metadata": {},
     "output_type": "display_data"
    },
    {
     "name": "stdout",
     "output_type": "stream",
     "text": [
      "1/8 2418 50\n",
      "1/8 2418 50\n",
      "2/8 2442 50\n",
      "2/8 2442 50\n",
      "3/8 2442 50\n",
      "3/8 2442 50\n",
      "4/8 2394 50\n",
      "4/8 2394 50\n",
      "5/8 2442 50566 50\n",
      "5/8 2442 50\n",
      "6/8 2418 50\n",
      "6/8 2418 50\n",
      "7/8 2442 50\n",
      "7/8 2442 50\n",
      "8/8 1578 30\n",
      "8/8 1578 30\n",
      "2008 EPL 380 links gathered\n"
     ]
    },
    {
     "data": {
      "application/vnd.jupyter.widget-view+json": {
       "model_id": "1a3c5df9a2b746298e473357f4fc7974",
       "version_major": 2,
       "version_minor": 0
      },
      "text/plain": [
       "Gathering 2009 EPL links:   0%|          | 0/8 [00:00<?, ?it/s]"
      ]
     },
     "metadata": {},
     "output_type": "display_data"
    },
    {
     "name": "stdout",
     "output_type": "stream",
     "text": [
      "1/8 2442 50\n",
      "1/8 2442 50\n",
      "2/8 2442 50\n",
      "2/8 2442 50\n",
      "3/8 2490 50\n",
      "3/8 2490 50\n",
      "4/8 2418 50\n",
      "4/8 2418 50\n",
      "5/8 2466 50\n",
      "5/8 2466 50\n",
      "6/8 2394 50\n",
      "6/8 2394 50\n",
      "7/8 2418 50\n",
      "7/8 2418 50\n",
      "8/8 1602 30\n",
      "8/8 1602 30\n",
      "2009 EPL 380 links gathered\n"
     ]
    },
    {
     "data": {
      "application/vnd.jupyter.widget-view+json": {
       "model_id": "f6de296c219d421a96e72c81533bffb4",
       "version_major": 2,
       "version_minor": 0
      },
      "text/plain": [
       "Gathering 2010 EPL links:   0%|          | 0/8 [00:00<?, ?it/s]"
      ]
     },
     "metadata": {},
     "output_type": "display_data"
    },
    {
     "name": "stdout",
     "output_type": "stream",
     "text": [
      "1/8 2442 50\n",
      "1/8 2442 50\n",
      "2/8 2490 50\n",
      "2/8 2490 50\n",
      "3/8 2514 50\n",
      "3/8 2514 50\n",
      "4/8 2514 50\n",
      "4/8 2514 50\n",
      "5/8 2370 50\n",
      "5/8 2370 50\n",
      "6/8 2466 50\n",
      "6/8 2466 50\n",
      "7/8 2418 50\n",
      "7/8 2418 50\n",
      "8/8 1602 30\n",
      "8/8 1602 30\n",
      "2010 EPL 380 links gathered\n"
     ]
    },
    {
     "data": {
      "application/vnd.jupyter.widget-view+json": {
       "model_id": "1a5a7af649284ff8b237aa396ec47c2b",
       "version_major": 2,
       "version_minor": 0
      },
      "text/plain": [
       "Gathering 2011 EPL links:   0%|          | 0/8 [00:00<?, ?it/s]"
      ]
     },
     "metadata": {},
     "output_type": "display_data"
    },
    {
     "name": "stdout",
     "output_type": "stream",
     "text": [
      "1/8 2466 50\n",
      "1/8 2466 50\n",
      "2/8 2490 50\n",
      "2/8 2490 50\n",
      "3/8 2562 50\n",
      "3/8 2562 50\n",
      "4/8 2370 50\n",
      "4/8 2370 502236 50\n",
      "5/8 2466 50\n",
      "5/8 2466 50\n",
      "6/8 2370 50\n",
      "6/8 2370 50\n",
      "7/8 2394 50\n",
      "7/8 2394 50\n",
      "8/8 1602 30\n",
      "8/8 1602 30\n",
      "2011 EPL 380 links gathered\n"
     ]
    },
    {
     "data": {
      "application/vnd.jupyter.widget-view+json": {
       "model_id": "7c0316f5be744b84a0de80cf92786dc4",
       "version_major": 2,
       "version_minor": 0
      },
      "text/plain": [
       "Gathering 2012 EPL links:   0%|          | 0/8 [00:00<?, ?it/s]"
      ]
     },
     "metadata": {},
     "output_type": "display_data"
    },
    {
     "name": "stdout",
     "output_type": "stream",
     "text": [
      "1/8 2490 50\n",
      "1/8 2490 50\n",
      "2/8 2514 50\n",
      "2/8 2514 50\n",
      "3/8 2418 50\n",
      "3/8 2418 50\n",
      "4/8 2418 505050\n",
      "4/8 2418 50 1593 50\n",
      "5/8 2442 50 50\n",
      "5/8 2442 50\n",
      "6/8 2418 50\n",
      "6/8 2418 50\n",
      "7/8 2418 50\n",
      "7/8 2418 50768 50\n",
      "8/8 1626 30\n",
      "8/8 1626 30\n",
      "2012 EPL 380 links gathered\n"
     ]
    },
    {
     "data": {
      "application/vnd.jupyter.widget-view+json": {
       "model_id": "a6a70388a9a549c6ac8b779fcee1c507",
       "version_major": 2,
       "version_minor": 0
      },
      "text/plain": [
       "Gathering 2013 EPL links:   0%|          | 0/8 [00:00<?, ?it/s]"
      ]
     },
     "metadata": {},
     "output_type": "display_data"
    },
    {
     "name": "stdout",
     "output_type": "stream",
     "text": [
      "1/8 2466 50\n",
      "1/8 2466 50 1459 50\n",
      "2/8 2466 50\n",
      "2/8 2466 50 1872 50\n",
      "3/8 2442 50\n",
      "3/8 2442 50\n",
      "4/8 2394 50\n",
      "4/8 2394 50 1977 50\n",
      "5/8 2466 50\n",
      "5/8 2466 50\n",
      "6/8 2418 50\n",
      "6/8 2418 50\n",
      "7/8 2418 50\n",
      "7/8 2418 50\n",
      "8/8 1626 30\n",
      "8/8 1626 30\n",
      "2013 EPL 380 links gathered\n"
     ]
    },
    {
     "data": {
      "application/vnd.jupyter.widget-view+json": {
       "model_id": "6477769ed7e84bef8d4d6f4e9a0f187e",
       "version_major": 2,
       "version_minor": 0
      },
      "text/plain": [
       "Gathering 2014 EPL links:   0%|          | 0/8 [00:00<?, ?it/s]"
      ]
     },
     "metadata": {},
     "output_type": "display_data"
    },
    {
     "name": "stdout",
     "output_type": "stream",
     "text": [
      "1/8 2490 50\n",
      "1/8 2490 50\n",
      "2/8 2442 50\n",
      "2/8 2442 50\n",
      "3/8 2394 50\n",
      "3/8 2394 500\n",
      "4/8 2370 50\n",
      "4/8 2370 50\n",
      "5/8 2370 50\n",
      "5/8 2370 50\n",
      "6/8 2370 50\n",
      "6/8 2370 5070 50\n",
      "7/8 2418 50\n",
      "7/8 2418 50\n",
      "8/8 1626 30\n",
      "8/8 1626 30\n",
      "2014 EPL 380 links gathered\n"
     ]
    },
    {
     "data": {
      "application/vnd.jupyter.widget-view+json": {
       "model_id": "cabdcee1ac77470992c350b75f8e160e",
       "version_major": 2,
       "version_minor": 0
      },
      "text/plain": [
       "Gathering 2015 EPL links:   0%|          | 0/8 [00:00<?, ?it/s]"
      ]
     },
     "metadata": {},
     "output_type": "display_data"
    },
    {
     "name": "stdout",
     "output_type": "stream",
     "text": [
      "1/8 2466 50\n",
      "1/8 2466 50\n",
      "2/8 2466 50\n",
      "2/8 2466 50\n",
      "3/8 2394 50\n",
      "3/8 2394 50\n",
      "4/8 2346 50\n",
      "4/8 2346 50\n",
      "5/8 2394 50\n",
      "5/8 2394 50\n",
      "6/8 2418 50\n",
      "6/8 2418 50\n",
      "7/8 2418 50\n",
      "7/8 2418 50\n",
      "8/8 1602 30\n",
      "8/8 1602 30\n",
      "2015 EPL 380 links gathered\n"
     ]
    },
    {
     "data": {
      "application/vnd.jupyter.widget-view+json": {
       "model_id": "da140ca74ff34dc8ac9dee15defbebc2",
       "version_major": 2,
       "version_minor": 0
      },
      "text/plain": [
       "Gathering 2016 EPL links:   0%|          | 0/8 [00:00<?, ?it/s]"
      ]
     },
     "metadata": {},
     "output_type": "display_data"
    },
    {
     "name": "stdout",
     "output_type": "stream",
     "text": [
      "1/8 2514 50\n",
      "1/8 2514 50\n",
      "2/8 2418 50\n",
      "2/8 2418 50\n",
      "3/8 2370 50\n",
      "3/8 2370 50\n",
      "4/8 2394 50\n",
      "4/8 2394 50\n",
      "5/8 2394 50\n",
      "5/8 2394 50\n",
      "6/8 2418 50\n",
      "6/8 2418 50\n",
      "7/8 2394 50\n",
      "7/8 2394 50\n",
      "8/8 1650 30\n",
      "8/8 1650 30\n",
      "2016 EPL 380 links gathered\n"
     ]
    },
    {
     "data": {
      "application/vnd.jupyter.widget-view+json": {
       "model_id": "615089ba4b4b450488a4edc3ecee9960",
       "version_major": 2,
       "version_minor": 0
      },
      "text/plain": [
       "Gathering 2017 EPL links:   0%|          | 0/8 [00:00<?, ?it/s]"
      ]
     },
     "metadata": {},
     "output_type": "display_data"
    },
    {
     "name": "stdout",
     "output_type": "stream",
     "text": [
      "1/8 2538 50\n",
      "1/8 2538 50\n",
      "2/8 2442 50\n",
      "2/8 2442 50\n",
      "3/8 2466 50\n",
      "3/8 2466 501814 50\n",
      "4/8 2394 50\n",
      "4/8 2394 50\n",
      "5/8 2418 50\n",
      "5/8 2418 50\n",
      "6/8 2394 50\n",
      "6/8 2394 50\n",
      "7/8 2466 50\n",
      "7/8 2466 50 1152 50\n",
      "8/8 1602 30\n",
      "8/8 1602 30\n",
      "2017 EPL 380 links gathered\n"
     ]
    },
    {
     "data": {
      "application/vnd.jupyter.widget-view+json": {
       "model_id": "79634adbb5cc4a368a2ccd0ff80f8cb3",
       "version_major": 2,
       "version_minor": 0
      },
      "text/plain": [
       "Gathering 2018 EPL links:   0%|          | 0/8 [00:00<?, ?it/s]"
      ]
     },
     "metadata": {},
     "output_type": "display_data"
    },
    {
     "name": "stdout",
     "output_type": "stream",
     "text": [
      "1/8 2562 502236 50\n",
      "1/8 2562 50\n",
      "2/8 2394 50\n",
      "2/8 2394 50\n",
      "3/8 2442 50\n",
      "3/8 2442 50\n",
      "4/8 2442 50\n",
      "4/8 2442 50\n",
      "5/8 2370 50\n",
      "5/8 2370 50\n",
      "6/8 2442 50\n",
      "6/8 2442 50249 50\n",
      "7/8 2442 50\n",
      "7/8 2442 50\n",
      "8/8 1602 30\n",
      "8/8 1602 30\n",
      "2018 EPL 380 links gathered\n"
     ]
    },
    {
     "data": {
      "application/vnd.jupyter.widget-view+json": {
       "model_id": "b750894d1ae840199d5acd9748753756",
       "version_major": 2,
       "version_minor": 0
      },
      "text/plain": [
       "Gathering 2019 EPL links:   0%|          | 0/8 [00:00<?, ?it/s]"
      ]
     },
     "metadata": {},
     "output_type": "display_data"
    },
    {
     "name": "stdout",
     "output_type": "stream",
     "text": [
      "1/8 2514 50\n",
      "1/8 2514 50\n",
      "2/8 2514 50\n",
      "2/8 2514 50\n",
      "3/8 2466 50\n",
      "3/8 2466 50\n",
      "4/8 2394 50\n",
      "4/8 2394 50\n",
      "5/8 2418 50\n",
      "5/8 2418 50\n",
      "6/8 2442 50\n",
      "6/8 2442 50537 50\n",
      "7/8 2418 50998 50\n",
      "7/8 2418 50\n",
      "8/8 1626 30\n",
      "8/8 1626 30\n",
      "2019 EPL 380 links gathered\n"
     ]
    },
    {
     "data": {
      "application/vnd.jupyter.widget-view+json": {
       "model_id": "c6b6b9151aa44a17b8b27dd8e85eda88",
       "version_major": 2,
       "version_minor": 0
      },
      "text/plain": [
       "Gathering 2020 EPL links:   0%|          | 0/8 [00:00<?, ?it/s]"
      ]
     },
     "metadata": {},
     "output_type": "display_data"
    },
    {
     "name": "stdout",
     "output_type": "stream",
     "text": [
      "1/8 2490 50\n",
      "1/8 2490 50\n",
      "2/8 2586 50 1939 50\n",
      "2/8 2586 50\n",
      "3/8 2586 50\n",
      "3/8 2586 50\n",
      "4/8 2394 50\n",
      "4/8 2394 50\n",
      "5/8 2442 50\n",
      "5/8 2442 5050\n",
      "6/8 2442 50\n",
      "6/8 2442 50316 50\n",
      "7/8 2418 50\n",
      "7/8 2418 50\n",
      "8/8 1626 30\n",
      "8/8 1626 30\n",
      "2020 EPL 380 links gathered\n"
     ]
    },
    {
     "data": {
      "application/vnd.jupyter.widget-view+json": {
       "model_id": "b97a92f2c73e42f7a40e8fd72a93922c",
       "version_major": 2,
       "version_minor": 0
      },
      "text/plain": [
       "Gathering 2021 EPL links:   0%|          | 0/8 [00:00<?, ?it/s]"
      ]
     },
     "metadata": {},
     "output_type": "display_data"
    },
    {
     "name": "stdout",
     "output_type": "stream",
     "text": [
      "1/8 2490 50 1900 50\n",
      "1/8 2490 50\n",
      "2/8 2730 50\n",
      "2/8 2730 50\n",
      "3/8 2586 50\n",
      "3/8 2586 50\n",
      "4/8 2514 50\n",
      "4/8 2514 50\n",
      "5/8 2562 50\n",
      "5/8 2562 50\n",
      "6/8 2514 50\n",
      "6/8 2514 50\n",
      "7/8 2514 50\n",
      "7/8 2514 50\n",
      "8/8 1650 30\n",
      "8/8 1650 30\n",
      "2021 EPL 380 links gathered\n"
     ]
    },
    {
     "data": {
      "application/vnd.jupyter.widget-view+json": {
       "model_id": "380254fd7b994066be415056417e355a",
       "version_major": 2,
       "version_minor": 0
      },
      "text/plain": [
       "Gathering 2022 EPL links:   0%|          | 0/8 [00:00<?, ?it/s]"
      ]
     },
     "metadata": {},
     "output_type": "display_data"
    },
    {
     "name": "stdout",
     "output_type": "stream",
     "text": [
      "1/8 2466 50\n",
      "1/8 2466 50\n",
      "2/8 2586 50\n",
      "2/8 2586 50\n",
      "3/8 2490 50\n",
      "3/8 2490 50\n",
      "4/8 2610 50\n",
      "4/8 2610 50\n",
      "5/8 2514 50\n",
      "5/8 2514 50\n",
      "6/8 2442 50\n",
      "6/8 2442 50\n",
      "7/8 2442 50\n",
      "7/8 2442 50\n",
      "8/8 1602 30\n",
      "8/8 1602 30\n",
      "2022 EPL 380 links gathered\n"
     ]
    },
    {
     "data": {
      "application/vnd.jupyter.widget-view+json": {
       "model_id": "3b49ef8f631949cebbcf6485800ba0cd",
       "version_major": 2,
       "version_minor": 0
      },
      "text/plain": [
       "Gathering 2023 EPL links:   0%|          | 0/8 [00:00<?, ?it/s]"
      ]
     },
     "metadata": {},
     "output_type": "display_data"
    },
    {
     "name": "stdout",
     "output_type": "stream",
     "text": [
      "1/8 2538 50\n",
      "1/8 2538 50\n",
      "2/8 2466 50\n",
      "2/8 2466 50\n",
      "3/8 2514 50\n",
      "3/8 2514 50 2256 50\n",
      "4/8 2514 50 1948 50\n",
      "4/8 2514 50\n",
      "5/8 2514 50\n",
      "5/8 2514 50\n",
      "6/8 2466 50\n",
      "6/8 2466 50\n",
      "7/8 2442 50\n",
      "7/8 2442 50\n",
      "8/8 1626 30\n",
      "8/8 1626 30\n",
      "2023 EPL 380 links gathered\n"
     ]
    }
   ],
   "source": [
    "op_comp_info = get_source_comp_info(2024, \"EPL\", \"Oddsportal\")[\"Oddsportal\"]\n",
    "leagues = list(op_comp_info.keys())\n",
    "\n",
    "scraper = sfc.Oddsportal()\n",
    "try:\n",
    "    for league in [\"EPL\",]: #leagues:\n",
    "        first_valid_year = op_comp_info[league][\"first valid year\"]\n",
    "        for year in list(range(first_valid_year, 2024)) + [None,]:\n",
    "            links = scraper.get_match_links(year, league)\n",
    "            print(year, league, len(links), \"links gathered\")\n",
    "except:\n",
    "    traceback.print_exc()\n",
    "# finally:\n",
    "#     scraper.close()"
   ]
  }
 ],
 "metadata": {
  "kernelspec": {
   "display_name": "Python 3 (ipykernel)",
   "language": "python",
   "name": "python3"
  },
  "language_info": {
   "codemirror_mode": {
    "name": "ipython",
    "version": 3
   },
   "file_extension": ".py",
   "mimetype": "text/x-python",
   "name": "python",
   "nbconvert_exporter": "python",
   "pygments_lexer": "ipython3",
   "version": "3.9.13"
  },
  "vscode": {
   "interpreter": {
    "hash": "585a938ec471c889bf0cce0aed741a99eaf47ca09c0fa8393793bc5bfe77ba11"
   }
  }
 },
 "nbformat": 4,
 "nbformat_minor": 4
}
